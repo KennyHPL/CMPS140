{
 "cells": [
  {
   "cell_type": "markdown",
   "metadata": {},
   "source": [
    "# CMPS 140"
   ]
  },
  {
   "cell_type": "markdown",
   "metadata": {
    "deletable": false,
    "editable": false,
    "nbgrader": {
     "checksum": "95c148d1d7f3bad1a285adcc2df86994",
     "grade": false,
     "grade_id": "cell-d2d02676a6c716dd",
     "locked": true,
     "schema_version": 1,
     "solution": false
    }
   },
   "source": [
    "## Assignment 1\n",
    "\n",
    "**DUE: Friday April 20, 2018 11:59pm**\n",
    "\n",
    "Turn in the assignment via Canvas.\n",
    "\n",
    "To write legible answers you will need to be familiar with both [Markdown](https://github.com/adam-p/markdown-here/wiki/Markdown-Cheatsheet) and [Latex](https://www.latex-tutorial.com/tutorials/amsmath/)\n",
    "\n",
    "Before you turn this problem in, make sure everything runs as expected. First, restart the kernel (in the menubar, select Kernel→→Restart) and then run all cells (in the menubar, select Cell→→Run All).\n",
    "\n",
    "Make sure you fill in any place that says \"YOUR CODE HERE\" or \"YOUR ANSWER HERE\", as well as your name below:\n"
   ]
  },
  {
   "cell_type": "code",
   "execution_count": 1,
   "metadata": {},
   "outputs": [],
   "source": [
    "NAME = \"Kenny Luu\"\n",
    "STUDENT_ID = \"1491158\""
   ]
  },
  {
   "cell_type": "markdown",
   "metadata": {
    "deletable": false,
    "editable": false,
    "nbgrader": {
     "checksum": "b0012b5d623145240cdd19dfa65be703",
     "grade": false,
     "grade_id": "cell-fbc61605f66193a2",
     "locked": true,
     "schema_version": 1,
     "solution": false
    }
   },
   "source": [
    "## Problem 1 \n",
    "\n",
    "Suppose that 13 cards are selected at random from a regular deck of 52 playing cards:\n",
    "\n",
    "a. If it is known that at least one ace has been selected, what is the probability that at least two aces have been selected?\n",
    "\n",
    "b. If it is known that the ace of hearts has been selected, what is the probability that at least two aces have been selected?"
   ]
  },
  {
   "cell_type": "markdown",
   "metadata": {
    "deletable": false,
    "nbgrader": {
     "checksum": "a1889ce8782580117854c4f2773af870",
     "grade": true,
     "grade_id": "cell-b18eb48e93041a25",
     "locked": false,
     "points": 1,
     "schema_version": 1,
     "solution": true
    }
   },
   "source": [
    "# Answers\n",
    "## A.\n",
    "\n",
    "Let **A** be the event of getting at least 2 Aces when 13 cards are selected:\n",
    "\n",
    "$P(A) = \\dfrac{{{4}\\choose{2}} \\cdot {{48}\\choose{11}} + {{4}\\choose{3}} \\cdot {{48}\\choose{10}} + {{4}\\choose{4}} \\cdot {{48}\\choose{9}}}{{52}\\choose{13}}$\n",
    "\n",
    "Let **B** be the event of getting at least one Ace when 13 cards are selected:\n",
    "\n",
    "$P(B) = \\dfrac{{{4}\\choose{1}} \\cdot {{48}\\choose{12}} + {{4}\\choose{2}} \\cdot {{48}\\choose{11}} + {{4}\\choose{3}} \\cdot {{48}\\choose{10}} + {{4}\\choose{4}} \\cdot {{48}\\choose{9}}}{{52}\\choose{13}}$\n",
    "\n",
    "So the probability of A given B is:\n",
    "\n",
    "$P(A|B) = \\dfrac{P(A\\cap B)}{P(B)}$\n",
    "\n",
    "$P(A\\cap B) = P(A)$ since getting at least 2 Aces and at least 1 Ace is the same as getting at least 2 Aces\n",
    "\n",
    "$P(A|B) = \\dfrac{P(A)}{P(B)}$ which is equal to: $.365$\n",
    "\n",
    "## B.\n",
    "\n",
    "Let **A** be the event of getting at least 2 Aces when 13 cards are selected:\n",
    "\n",
    "$P(A) = \\dfrac{{{4}\\choose{2}} \\cdot {{48}\\choose{11}} + {{4}\\choose{3}} \\cdot {{48}\\choose{10}} + {{4}\\choose{4}} \\cdot {{48}\\choose{9}}}{{52}\\choose{13}}$\n",
    "\n",
    "Let **B** be the event that the Ace of hearts is chosen when 13 cards are selected\n",
    "\n",
    "$P(B) = \\dfrac{{51}\\choose{12}}{{52}\\choose{13}}$\n",
    "\n",
    "So the probability of A given B is:\n",
    "\n",
    "$P(A|B) = \\dfrac{P(A\\cap B)}{P(B)}$\n",
    "\n",
    "$P(A\\cap B)$ is equal to choosing 1, 2, or 3 Aces which are not the Ace of hearts which is:\n",
    "\n",
    "$P(A\\cap B) = \\dfrac{{{3}\\choose{1}} \\cdot {{48}\\choose{11}} + {{3}\\choose{2}} \\cdot {{48}\\choose{10}} + {{3}\\choose{3}} \\cdot {{48}\\choose{9}}}{{52}\\choose{13}}$\n",
    "\n",
    "And thus we get:\n",
    "\n",
    "$P(A|B) = \\dfrac{{{3}\\choose{1}} \\cdot {{48}\\choose{11}} + {{3}\\choose{2}} \\cdot {{48}\\choose{10}} + {{3}\\choose{3}} \\cdot {{48}\\choose{9}}}{{51}\\choose{12}} = 0.561$\n",
    "\n",
    "\n",
    "\n",
    "\n"
   ]
  },
  {
   "cell_type": "markdown",
   "metadata": {
    "deletable": false,
    "editable": false,
    "nbgrader": {
     "checksum": "886ce8f1c285a0340b635a4b945e9ae9",
     "grade": false,
     "grade_id": "cell-63bc34a656b9f6e0",
     "locked": true,
     "schema_version": 1,
     "solution": false
    }
   },
   "source": [
    "## Problem 2\n",
    "\n",
    "\n",
    "Suppose that a person's score X on a mathematics aptitude test is a number between 0 and 1, and that a person's score on a music aptitude test is also a number between 0 and 1. Supposed further that in the population of all college students, the scores X and Y are distributed according to the following joint p.d.f.:\n",
    "\n",
    "$f(x, y) = \\frac{2}{5}(2x+3y),$ for $0 \\leq x \\leq 1$ and $0 \\leq y \\leq 1$\n",
    "\n",
    "a. What proportion of college students obtain a score greater than 0.8 on the mathematics test?\n",
    "\n",
    "b. If a student's score on the music test is 0.3, what is the probability that his/her score on the mathematics test will be greater than 0.8?\n",
    "\n",
    "c. If a student's score on the mathematics test is 0.3, what is the probability that his/her score on the music test will be greater than 0.8?"
   ]
  },
  {
   "cell_type": "markdown",
   "metadata": {
    "deletable": false,
    "nbgrader": {
     "checksum": "e15a7a687546c8c98d80284a2bc17582",
     "grade": true,
     "grade_id": "cell-2f061f10915044a8",
     "locked": false,
     "points": 1,
     "schema_version": 1,
     "solution": true
    }
   },
   "source": [
    "# Answers\n",
    "\n",
    "## A.\n",
    "$$P(X \\geq .8) = \\int_{.8}^{1}\\int_{0}^{1}\\frac{2}{5}(2x+3y)dydx$$\n",
    "$$P(X \\geq .8) = \\frac{2}{5}\\int_{.8}^{1}\\Bigm[(2xy + \\frac{3y^2}{2})\\Bigm]_{0}^{1}dx$$\n",
    "$$P(X \\geq .8) = \\frac{2}{5}\\int_{.8}^{1}(2x + \\frac{3}{2})dx$$\n",
    "$$P(X \\geq .8) = \\frac{2}{5}\\Bigm[(x^2 + \\frac{3x}{2}) \\Bigm]_{0.8}^{1}$$\n",
    "\n",
    "$$P(X \\geq .8) = \\frac{2}{5}[(1+\\frac{3}{2})-(.64+\\frac{3\\cdot0.8}{2})]$$\n",
    "$$P(X \\geq .8) = 0.264$$\n",
    "\n",
    "## B.\n",
    "#### Finding the marginal PDF of $y$:\n",
    "$$f_{y}(Y) = \\int_{0}^{1}\\frac{2}{5}(2x+3y)dx$$\n",
    "$$f_{y}(Y) = \\frac{2}{5}\\Bigm[_{0}^{1}(x^2+3yx)\\Bigm]$$\n",
    "\n",
    "$$f_{y}(Y) = \\frac{2}{5}(3y+1)$$\n",
    "\n",
    "#### Getting the conditional probability\n",
    "\n",
    "$$P(X|Y) = \\dfrac{f(x,y)}{f_y(Y)}$$\n",
    "\n",
    "$$P(X|Y) = \\dfrac{\\frac{2}{5}(2x+3y)}{\\frac{2}{5}(3y+1)}$$\n",
    "\n",
    "$$P(X|Y) = \\dfrac{(2x+3y)}{(3y+1)}$$\n",
    "\n",
    "$$P(X \\geq 0.8|Y = 0.3) = \\int_{0.8}^{1}\\dfrac{(2x+3\\cdot0.3)}{(3\\cdot0.3+1)}dx$$\n",
    "$$P(X \\geq 0.8|Y = 0.3) = \\frac{1}{1.9}\\int_{0.8}^{1}2x+0.9dx$$\n",
    "$$P(X \\geq 0.8|Y = 0.3) = \\frac{1}{1.9}\\Bigm[_{0.8}^{1}x^2+0.9x\\Bigm]$$\n",
    "\n",
    "$$P(X \\geq 0.8|Y = 0.3) = 0.284$$\n",
    "\n",
    "## C.\n",
    "#### Finding the marginal PDF of $x$:\n",
    "$$f_{x}(X) = \\int_{0}^{1}\\frac{2}{5}(2x+3y)dy$$\n",
    "$$f_{x}(X) = \\frac{2}{5}\\Bigm[_{0}^{1}(2xy+\\frac{3y^2}{2})\\Bigm]$$\n",
    "\n",
    "$$f_{x}(X) = \\frac{2}{5}(2x+\\frac{3}{2})$$\n",
    "\n",
    "#### Getting the conditional probability\n",
    "\n",
    "$$P(Y|X) = \\dfrac{f(x,y)}{f_x(X)}$$\n",
    "\n",
    "$$P(Y|X) = \\dfrac{\\frac{2}{5}(2x+3y)}{\\frac{2}{5}(2x+\\frac{3}{2})}$$\n",
    "\n",
    "$$P(Y|X) = \\dfrac{(2x+3y)}{(2x+\\frac{3}{2})}$$\n",
    "\n",
    "$$P(Y \\geq 0.8|X = 0.3) = \\int_{0.8}^{1}\\dfrac{(2\\cdot0.3+3y)}{(2\\cdot0.3+\\frac{3}{2})}dy$$\n",
    "$$P(Y \\geq 0.8|X = 0.3) = \\frac{1}{2.1}\\int_{0.8}^{1}0.6+3y dy$$\n",
    "$$P(Y \\geq 0.8|X = 0.3) = \\frac{1}{2.1}\\Bigm[_{0.8}^{1}0.6y+\\frac{3y^2}{2}\\Bigm]$$\n",
    "\n",
    "$$P(Y \\geq 0.8|X = 0.3) = 0.314$$"
   ]
  },
  {
   "cell_type": "markdown",
   "metadata": {
    "deletable": false,
    "editable": false,
    "nbgrader": {
     "checksum": "9afe5deed00addacea2ffd902cfd2a76",
     "grade": false,
     "grade_id": "cell-6c53a68749acb988",
     "locked": true,
     "schema_version": 1,
     "solution": false
    }
   },
   "source": [
    "## Problem 3\n",
    "\n",
    "Write out the joint probability distribution described by the following Bayesian Network:\n",
    "\n",
    "![bayes_net](https://docs.google.com/drawings/d/e/2PACX-1vRjJ382tPK3UrxydjCmwWmMjOi-8T1wQN6hBBJhE7u3-creWY7KR-K224MPTU5IzKXtX4ILxviRUMAw/pub?w=720&h=528)"
   ]
  },
  {
   "cell_type": "markdown",
   "metadata": {
    "deletable": false,
    "nbgrader": {
     "checksum": "3315e32937e66207191e55de29900077",
     "grade": true,
     "grade_id": "cell-e702292884b97e63",
     "locked": false,
     "points": 1,
     "schema_version": 1,
     "solution": true
    }
   },
   "source": [
    "Using the chain rule we get:\n",
    "\n",
    "$P(A,B,C,D,E,F) = P(A)\\cdot P(B)\\cdot P(C)\\cdot P(D|A,B)\\cdot P(E|B,C)\\cdot P(F|D,E)$"
   ]
  },
  {
   "cell_type": "markdown",
   "metadata": {
    "deletable": false,
    "editable": false,
    "nbgrader": {
     "checksum": "a8297d74638bd383fc868c1cbdbdc0b7",
     "grade": false,
     "grade_id": "cell-e5b71a52fa68bb04",
     "locked": true,
     "schema_version": 1,
     "solution": false
    }
   },
   "source": [
    "## Problem 4\n",
    "\n",
    "Given the dataset below, use information gain to calculate the first attribute the decision tree should split on. Feel free to use the cell below to explore the dataset and facilitate with the calculations. You should show your work using LaTeX 2 cells down."
   ]
  },
  {
   "cell_type": "code",
   "execution_count": null,
   "metadata": {
    "scrolled": true
   },
   "outputs": [],
   "source": [
    "import pandas as pd\n",
    "import numpy as np\n",
    "import scipy as sc\n",
    "import math\n",
    "import matplotlib.pyplot as plt\n",
    "from sklearn.datasets import load_iris\n",
    "\n",
    "def entr(pos, neg, total):\n",
    "    a = pos/total\n",
    "    b = neg/total\n",
    "    \n",
    "    c = 0\n",
    "    d = 0\n",
    "    if(a != 0):\n",
    "        c = 0-a*math.log(a,2)\n",
    "    elif(b != 0):\n",
    "        d = 0-b*math.log(b,2)\n",
    "    e = c+d\n",
    "    return e\n",
    "\n",
    "def infoGain(data, attr, ent, p):\n",
    "    #getting the count of class 1 or not\n",
    "    y = 0\n",
    "    x = 0\n",
    "    for i in range(0,150):\n",
    "        if(data[i][attr] >= p):\n",
    "            y += 1\n",
    "            if(i < 50):\n",
    "                x += 1\n",
    "                \n",
    "    c = entr(x, y-x, y)\n",
    "    d = entr(150-y-x, x, 150-y)\n",
    "    a = y*c/150\n",
    "    b = (150-y)*d/150\n",
    "    \n",
    "    return(ent-a-b)\n",
    "\n",
    "##################################################\n",
    "\n",
    "data_iris, labels_iris = load_iris(return_X_y=True)\n",
    "\n",
    "print('There are {} samples with {} attributes.'.format(*data_iris.shape))\n",
    "print('The labels consist of {} classes \\n'.format(len(np.unique(labels_iris))))\n",
    "\n",
    "print('Gain(S,Attr 1) = {}'.format(infoGain(data_iris, 0, .918, 5.5)))\n",
    "print('Gain(S,Attr 2) = {}'.format(infoGain(data_iris, 1, .918, 3.0)))\n",
    "print('Gain(S,Attr 3) = {}'.format(infoGain(data_iris, 2, .918, 2.0)))\n",
    "print('Gain(S,Attr 4) = {}'.format(infoGain(data_iris, 3, .918, 1.0)))\n",
    "\n",
    "colors = ['r' if  i == 0 else 'b' if i == 1 else 'g' for i in labels_iris]\n",
    "graph = 0\n",
    "for i in range (0,4):\n",
    "    for j in range (0,4):\n",
    "        if(i != j):\n",
    "            graph += 1\n",
    "            plt.title('Graph {}'.format(graph))\n",
    "            plt.scatter(data_iris[:,i], data_iris[:,j], c=colors)\n",
    "            plt.xlabel('Attribute {}'.format(i+1))\n",
    "            plt.ylabel('Attribute {}'.format(j+1))\n",
    "            plt.show()\n"
   ]
  },
  {
   "cell_type": "markdown",
   "metadata": {
    "deletable": false,
    "nbgrader": {
     "checksum": "4e80f0e5cf3bf5fb6848c2d982131821",
     "grade": true,
     "grade_id": "cell-9d85836f00c56d8e",
     "locked": false,
     "points": 0,
     "schema_version": 1,
     "solution": true
    }
   },
   "source": [
    "To determine the information gain of each attribute I used entropy as a metric:\n",
    "$$H(X) = \\sum_{i=1}^{n}P(x_i)\\log_{2}P(x_i) $$\n",
    "\n",
    "The equation of information gain would be:\n",
    "$$Gain(S,A) = H(S)-\\sum_{v\\in values(a)}\\frac{|S_v|}{|S|}H(S_v)$$\n",
    "\n",
    "Measuring the information gain for this split, I'm going to calculate the entropy of something being in Class 1 or not.\n",
    "\n",
    "To get the entropy of something being in Class 1 or not we have:\n",
    "$$H(Class 1) = -\\frac{50}{150}\\cdot\\log_{2}(\\frac{50}{150})-\\frac{100}{150}\\cdot\\log_{2}(\\frac{100}{150})$$\n",
    "\n",
    "$$H(Class 1) = 0.918 $$\n",
    "\n",
    "To find the information gain of each attribute we split according to:\n",
    "\n",
    "    Attribute 1: >=5.5\n",
    "    Attribute 2: >=3.0\n",
    "    Attribute 3: >=2.0\n",
    "    Attribute 4: >=1.0\n",
    "\n",
    "And the information gain we get is: \n",
    "\n",
    "    Gain(S,Attr 1) = 0.7292073368671894\n",
    "    Gain(S,Attr 2) = 0.45287927991285426\n",
    "    Gain(S,Attr 3) = 0.918\n",
    "    Gain(S,Attr 4) = 0.918\n",
    "\n",
    "Splitting on either attribute 3 or 4 would give us the same amount of information, so either would be equally as good."
   ]
  },
  {
   "cell_type": "markdown",
   "metadata": {},
   "source": [
    "## Problem 5\n",
    "\n",
    "Given the dataset below, implement the logistic regression algorithm, optimizing the parameters using gradient descent and squared error as the loss function. See 18.6.4 from the textbook for details."
   ]
  },
  {
   "cell_type": "code",
   "execution_count": 3,
   "metadata": {
    "deletable": false,
    "editable": false,
    "nbgrader": {
     "checksum": "75b88d158872f2555802d1ca4e7d57cb",
     "grade": false,
     "grade_id": "cell-3f4f2172ab68f465",
     "locked": true,
     "schema_version": 1,
     "solution": false
    }
   },
   "outputs": [
    {
     "name": "stdout",
     "output_type": "stream",
     "text": [
      "(100, 2) (100,)\n"
     ]
    },
    {
     "data": {
      "image/png": "[encoded data removed]",
      "text/plain": [
       "<Figure size 432x288 with 1 Axes>"
      ]
     },
     "metadata": {},
     "output_type": "display_data"
    }
   ],
   "source": [
    "import numpy as np\n",
    "import matplotlib.pyplot as plt\n",
    "from sklearn.datasets.samples_generator import make_moons\n",
    "\n",
    "np.random.seed(33)\n",
    "data, labels = make_moons(n_samples=100, noise=0.1)\n",
    "colors = ['r' if y else 'b' for y in labels]\n",
    "print(data.shape, labels.shape)\n",
    "plt.scatter(data[:,0], data[:,1], c=colors)\n",
    "plt.show()"
   ]
  },
  {
   "cell_type": "code",
   "execution_count": 4,
   "metadata": {
    "deletable": false,
    "nbgrader": {
     "checksum": "4a753cda013f7b7c1376e8e4d6fd26f9",
     "grade": false,
     "grade_id": "cell-14e8f247a6e4f45c",
     "locked": false,
     "schema_version": 1,
     "solution": true
    }
   },
   "outputs": [
    {
     "name": "stdout",
     "output_type": "stream",
     "text": [
      "Intial Accuracy:62.0%\n",
      "Step 1 Accuracy:72.0%\n",
      "Step 2 Accuracy:85.0%\n",
      "Step 3 Accuracy:85.0%\n",
      "Step 4 Accuracy:85.0%\n",
      "Step 5 Accuracy:85.0%\n",
      "Step 6 Accuracy:85.0%\n",
      "Step 7 Accuracy:85.0%\n",
      "Step 8 Accuracy:84.0%\n",
      "Step 9 Accuracy:84.0%\n",
      "Step 10 Accuracy:85.0%\n"
     ]
    },
    {
     "data": {
      "text/plain": [
       "<matplotlib.collections.PathCollection at 0x15c0c9179b0>"
      ]
     },
     "execution_count": 4,
     "metadata": {},
     "output_type": "execute_result"
    },
    {
     "data": {
      "image/png": "[encoded data removed]",
      "text/plain": [
       "<Figure size 432x288 with 1 Axes>"
      ]
     },
     "metadata": {},
     "output_type": "display_data"
    }
   ],
   "source": [
    "import math\n",
    "\n",
    "def logistic(x, w):\n",
    "    # YOUR CODE HERE\n",
    "    temp = np.zeros(x.shape[0],)\n",
    "    for i in range (0, x.shape[0]):\n",
    "        z = 0\n",
    "        for j in range (0, x.shape[1]):\n",
    "            z += x[i][j]*w[j]\n",
    "            temp[i] = sigmoid(z)\n",
    "    return temp\n",
    "\n",
    "def sigmoid(z):\n",
    "    # YOUR CODE HERE\n",
    "    return 1/(1+math.exp(-z))\n",
    "\n",
    "def sigmoid_derivative(z):\n",
    "    # YOUR CODE HERE\n",
    "    return sigmoid(z)*(1-sigmoid(z))\n",
    "    \n",
    "def squared_error(y, h):\n",
    "    # YOUR CODE HERE\n",
    "    temp = h.copy()\n",
    "    for i in range(0, temp.shape[0]):\n",
    "            temp[i] = pow(y[i] - h[i],2)\n",
    "    return temp\n",
    "\n",
    "def squared_error_derivative(y, h):\n",
    "    # YOUR CODE HERE\n",
    "    temp = h.copy()\n",
    "    for i in range(0, temp.shape[0]):\n",
    "        temp[i] = (y[i]-h[i])*(h[i]*(1-h[i]))\n",
    "    return temp\n",
    "    \n",
    "def accuracy(y, h):\n",
    "    # YOUR CODE HERE\n",
    "    totC = 0\n",
    "    for i in range(0, h.shape[0]):\n",
    "        if(h[i] < .5 and y[i] == 0):\n",
    "            totC += 1\n",
    "        elif(h[i] >= .5 and y[i] == 1):\n",
    "            totC += 1\n",
    "        else:\n",
    "            continue\n",
    "    return (100*totC/h.shape[0])\n",
    "    \n",
    "def logistic_regression(x, y, loss_func, loss_func_derivative, learning_rate, num_steps=10):\n",
    "    # start with intial parameters w_i = 1\n",
    "    w = np.ones(3)\n",
    "    #w = np.array([ 1.        ,  0.51003169, -1.56964452])\n",
    "    # include a bias term\n",
    "    x = np.pad(x, [[0,0], [1,0]], mode='constant')\n",
    "    \n",
    "    print('Intial Accuracy:{}%'.format(accuracy(y, np.round(logistic(x, w)))))\n",
    "    \n",
    "    for step in range(0, num_steps):\n",
    "        output = logistic(x, w)\n",
    "        update = np.dot(loss_func(y, output)*loss_func_derivative(y, output), x)\n",
    "        w = w + learning_rate * update\n",
    "        print('Step {} Accuracy:{}%'.format(step+1,accuracy(y, np.round(logistic(x, w)))))\n",
    "    return w\n",
    "    \n",
    "ws = logistic_regression(data, labels, squared_error, squared_error_derivative, .5)\n",
    "yh = np.round(logistic(np.pad(data, [[0,0], [1,0]], mode='constant'), ws))\n",
    "colors = ['g' if _yh==_y else 'r' for _yh, _y in zip(yh, labels.astype(np.int))]\n",
    "plt.title('Classification Results')\n",
    "plt.scatter(data[:,0], data[:,1], c=colors)"
   ]
  },
  {
   "cell_type": "code",
   "execution_count": 5,
   "metadata": {
    "deletable": false,
    "editable": false,
    "nbgrader": {
     "checksum": "48af5556e545939d398fc0b508377e08",
     "grade": true,
     "grade_id": "cell-5c2d005f666d2961",
     "locked": true,
     "points": 0,
     "schema_version": 1,
     "solution": false
    }
   },
   "outputs": [
    {
     "name": "stdout",
     "output_type": "stream",
     "text": [
      "Intial Accuracy:62.0%\n",
      "Step 1 Accuracy:72.0%\n",
      "Step 2 Accuracy:85.0%\n",
      "Step 3 Accuracy:85.0%\n",
      "Step 4 Accuracy:85.0%\n",
      "Step 5 Accuracy:85.0%\n",
      "Step 6 Accuracy:85.0%\n",
      "Step 7 Accuracy:85.0%\n",
      "Step 8 Accuracy:84.0%\n",
      "Step 9 Accuracy:84.0%\n",
      "Step 10 Accuracy:85.0%\n"
     ]
    },
    {
     "ename": "AssertionError",
     "evalue": "\nNot equal to tolerance rtol=1e-05, atol=0\n\n(mismatch 66.66666666666666%)\n x: array([ 1.      ,  0.463408, -1.264412])\n y: array([ 1.      ,  0.510032, -1.569645])",
     "output_type": "error",
     "traceback": [
      "\u001b[1;31m---------------------------------------------------------------------------\u001b[0m",
      "\u001b[1;31mAssertionError\u001b[0m                            Traceback (most recent call last)",
      "\u001b[1;32m<ipython-input-5-814ebfbd46b0>\u001b[0m in \u001b[0;36m<module>\u001b[1;34m()\u001b[0m\n\u001b[0;32m      2\u001b[0m np.testing.assert_allclose(logistic_regression(data, labels, squared_error, squared_error_derivative, 0.5),\n\u001b[0;32m      3\u001b[0m                            \u001b[0mcorrect_w\u001b[0m\u001b[1;33m,\u001b[0m\u001b[1;33m\u001b[0m\u001b[0m\n\u001b[1;32m----> 4\u001b[1;33m                            rtol=1e-5)\n\u001b[0m",
      "\u001b[1;32mc:\\python\\lib\\site-packages\\numpy\\testing\\nose_tools\\utils.py\u001b[0m in \u001b[0;36massert_allclose\u001b[1;34m(actual, desired, rtol, atol, equal_nan, err_msg, verbose)\u001b[0m\n\u001b[0;32m   1394\u001b[0m     \u001b[0mheader\u001b[0m \u001b[1;33m=\u001b[0m \u001b[1;34m'Not equal to tolerance rtol=%g, atol=%g'\u001b[0m \u001b[1;33m%\u001b[0m \u001b[1;33m(\u001b[0m\u001b[0mrtol\u001b[0m\u001b[1;33m,\u001b[0m \u001b[0matol\u001b[0m\u001b[1;33m)\u001b[0m\u001b[1;33m\u001b[0m\u001b[0m\n\u001b[0;32m   1395\u001b[0m     assert_array_compare(compare, actual, desired, err_msg=str(err_msg),\n\u001b[1;32m-> 1396\u001b[1;33m                          verbose=verbose, header=header, equal_nan=equal_nan)\n\u001b[0m\u001b[0;32m   1397\u001b[0m \u001b[1;33m\u001b[0m\u001b[0m\n\u001b[0;32m   1398\u001b[0m \u001b[1;33m\u001b[0m\u001b[0m\n",
      "\u001b[1;32mc:\\python\\lib\\site-packages\\numpy\\testing\\nose_tools\\utils.py\u001b[0m in \u001b[0;36massert_array_compare\u001b[1;34m(comparison, x, y, err_msg, verbose, header, precision, equal_nan, equal_inf)\u001b[0m\n\u001b[0;32m    777\u001b[0m                                 \u001b[0mverbose\u001b[0m\u001b[1;33m=\u001b[0m\u001b[0mverbose\u001b[0m\u001b[1;33m,\u001b[0m \u001b[0mheader\u001b[0m\u001b[1;33m=\u001b[0m\u001b[0mheader\u001b[0m\u001b[1;33m,\u001b[0m\u001b[1;33m\u001b[0m\u001b[0m\n\u001b[0;32m    778\u001b[0m                                 names=('x', 'y'), precision=precision)\n\u001b[1;32m--> 779\u001b[1;33m             \u001b[1;32mraise\u001b[0m \u001b[0mAssertionError\u001b[0m\u001b[1;33m(\u001b[0m\u001b[0mmsg\u001b[0m\u001b[1;33m)\u001b[0m\u001b[1;33m\u001b[0m\u001b[0m\n\u001b[0m\u001b[0;32m    780\u001b[0m     \u001b[1;32mexcept\u001b[0m \u001b[0mValueError\u001b[0m\u001b[1;33m:\u001b[0m\u001b[1;33m\u001b[0m\u001b[0m\n\u001b[0;32m    781\u001b[0m         \u001b[1;32mimport\u001b[0m \u001b[0mtraceback\u001b[0m\u001b[1;33m\u001b[0m\u001b[0m\n",
      "\u001b[1;31mAssertionError\u001b[0m: \nNot equal to tolerance rtol=1e-05, atol=0\n\n(mismatch 66.66666666666666%)\n x: array([ 1.      ,  0.463408, -1.264412])\n y: array([ 1.      ,  0.510032, -1.569645])"
     ]
    }
   ],
   "source": [
    "correct_w = np.array([ 1.        ,  0.51003169, -1.56964452])\n",
    "np.testing.assert_allclose(logistic_regression(data, labels, squared_error, squared_error_derivative, 0.5),\n",
    "                           correct_w,\n",
    "                           rtol=1e-5)"
   ]
  },
  {
   "cell_type": "markdown",
   "metadata": {},
   "source": [
    "## Problem 6\n",
    "\n",
    "Implement a single perceptron below.\n",
    "\n",
    "You can assume that both **x** and **w** will be iterables and b will be a single value. All of them will not be *None*."
   ]
  },
  {
   "cell_type": "code",
   "execution_count": null,
   "metadata": {
    "deletable": false,
    "nbgrader": {
     "checksum": "23ec0179033bbc5ec963ac98baf613fb",
     "grade": false,
     "grade_id": "cell-6ad288911fa0e2a9",
     "locked": false,
     "schema_version": 1,
     "solution": true
    }
   },
   "outputs": [],
   "source": [
    "def perceptron(x, w, b):\n",
    "    # YOUR CODE HERE\n",
    "    sum = 0\n",
    "    for i in range(0, len(x)):\n",
    "        for j in range(0, len(w)):\n",
    "            sum += x[i]*w[j]\n",
    "    sum += b\n",
    "    \n",
    "    if(sum > 5):\n",
    "        return 1\n",
    "    else:\n",
    "        return 0"
   ]
  },
  {
   "cell_type": "code",
   "execution_count": null,
   "metadata": {
    "deletable": false,
    "editable": false,
    "nbgrader": {
     "checksum": "f8e4fb18f036abcf7180c285e531fd24",
     "grade": true,
     "grade_id": "cell-0beeecf3cc6d7e32",
     "locked": true,
     "points": 1,
     "schema_version": 1,
     "solution": false
    }
   },
   "outputs": [],
   "source": [
    "assert perceptron([1, 2], [1, 1], 0) == 1\n",
    "assert perceptron([1, 2], [1, 1], -5) == 0"
   ]
  },
  {
   "cell_type": "code",
   "execution_count": null,
   "metadata": {},
   "outputs": [],
   "source": []
  }
 ],
 "metadata": {
  "celltoolbar": "Edit Metadata",
  "kernelspec": {
   "display_name": "Python 3",
   "language": "python",
   "name": "python3"
  },
  "language_info": {
   "codemirror_mode": {
    "name": "ipython",
    "version": 3
   },
   "file_extension": ".py",
   "mimetype": "text/x-python",
   "name": "python",
   "nbconvert_exporter": "python",
   "pygments_lexer": "ipython3",
   "version": "3.6.5"
  }
 },
 "nbformat": 4,
 "nbformat_minor": 2
}
